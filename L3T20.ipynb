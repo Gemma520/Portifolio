{
 "cells": [
  {
   "cell_type": "markdown",
   "metadata": {
    "colab_type": "text",
    "id": "eHGm8RQlK46m"
   },
   "source": [
    "# Get and explore dataset"
   ]
  },
  {
   "cell_type": "code",
   "execution_count": 189,
   "metadata": {
    "colab": {},
    "colab_type": "code",
    "id": "-erlYw1jXtgh"
   },
   "outputs": [],
   "source": [
    "import matplotlib.pyplot as plt\n",
    "from matplotlib import pyplot\n",
    "import numpy as np\n",
    "import re"
   ]
  },
  {
   "cell_type": "code",
   "execution_count": 190,
   "metadata": {
    "colab": {},
    "colab_type": "code",
    "id": "goZIhX8nII4T"
   },
   "outputs": [],
   "source": [
    "# Make results reproducible - set random seed\n",
    "from numpy.random import seed\n",
    "seed(42)"
   ]
  },
  {
   "cell_type": "code",
   "execution_count": 191,
   "metadata": {
    "colab": {},
    "colab_type": "code",
    "id": "v_fEysQHII4W",
    "tags": []
   },
   "outputs": [],
   "source": [
    "negative_file = \"negative.txt\"\n",
    "positive_file = \"positive.txt\""
   ]
  },
  {
   "cell_type": "code",
   "execution_count": 192,
   "metadata": {
    "colab": {},
    "colab_type": "code",
    "id": "0rWm4yycII4Y",
    "tags": []
   },
   "outputs": [],
   "source": [
    "# Do not modify - helper function to load and preprocess data\n",
    "def filter_words(line):    \n",
    "    line = re.sub(r'[^\\w\\s]','',line.rstrip())\n",
    "    words = line.split(\" \") \n",
    "    words = [i.lower() for i in words if i]      \n",
    "    return \" \".join(words)\n",
    "\n",
    "def load_data(filename):\n",
    "    thefile = open(filename, 'r') \n",
    "    lines = thefile.readlines() \n",
    "\n",
    "    data = []\n",
    "    for l in range(0,len(lines)): \n",
    "        if(lines[l-1].strip() == \"<title>\"): \n",
    "            theline = filter_words(lines[l])\n",
    "            if(len(theline) < 50):\n",
    "                data.append(theline)            \n",
    "            \n",
    "    return data\n",
    "\n",
    "# Helper function to convert categorical data to class label\n",
    "def to_word_label(y):\n",
    "    y = to_class(y)   \n",
    "    return [\"positive\" if i==0 else \"negative\" for i in y]\n",
    "\n",
    "# Helper function to convert class label to numeric label\n",
    "def to_numeric_label(y):\n",
    "  return [0 if i==\"positive\" else 1 for i in word_labels]\n",
    "\n",
    "# Helper function: this function needs to be called before sending arrays to sklearn metrics,\n",
    "# it converts back to class form from categorical form. ie: [1,0] --> 0, [0,1] --> 1\n",
    "def to_class(y):\n",
    "    return np.argmax(y,axis=1) "
   ]
  },
  {
   "cell_type": "code",
   "execution_count": 193,
   "metadata": {
    "colab": {
     "base_uri": "https://localhost:8080/",
     "height": 70
    },
    "colab_type": "code",
    "id": "jjGUiFm9II4b",
    "outputId": "aa5eb89b-85f2-4d61-f33a-b00361b19a41",
    "tags": []
   },
   "outputs": [
    {
     "name": "stdout",
     "output_type": "stream",
     "text": [
      "['one of the best crichton novels', 'the medicine of the future', 'beautiful', 'for lovers of robicheaux', 'a good book', 'to the point and beautifully illustrated', 'at least somebody has got it', 'beautifully written heartwarming story', 'an excellent cookbook full of delicious recipes', 'an outstanding resource']\n",
      "['horrible book horrible', 'shallow selfindulgence', 'horrible book horrible', 'disappointment', 'a disappointing mess', 'save your money there are better books out there', 'thank you but no thanks', 'unendurable', 'the hard way', 'some good info among the political commercial']\n"
     ]
    }
   ],
   "source": [
    "positive = load_data(positive_file)\n",
    "negative = load_data(negative_file)\n",
    "\n",
    "print(positive[0:10])\n",
    "print(negative[0:10])"
   ]
  },
  {
   "cell_type": "code",
   "execution_count": 194,
   "metadata": {
    "colab": {},
    "colab_type": "code",
    "id": "yrgEYOOCII4d",
    "tags": []
   },
   "outputs": [],
   "source": [
    "# Do not modify - Combines the positive and negative reviews into a single list and create labels\n",
    "data = positive + negative\n",
    "word_labels = [\"positive\"] * len(positive) + [\"negative\"] * len(negative) \n",
    "\n",
    "# Converts labels to numbers in one-hot encoding - [1, 0] (positive) or [0, 1] (negative)\n",
    "\n",
    "from tensorflow.keras.utils import to_categorical\n",
    "labels  = to_categorical(to_numeric_label(word_labels))"
   ]
  },
  {
   "cell_type": "code",
   "execution_count": 195,
   "metadata": {
    "colab": {},
    "colab_type": "code",
    "id": "97Uh2uBpII4l",
    "tags": []
   },
   "outputs": [],
   "source": [
    "# Write some code to investigate the dataset. \n",
    "# - Calculate and report the mean review size, its standard deviation and create a boxplot.\n",
    "# - Calculate the number of unique words in the dataset\n",
    "# - Perform any other dataset investigation that you feel would be valuable\n",
    " "
   ]
  },
  {
   "cell_type": "code",
   "execution_count": 196,
   "metadata": {},
   "outputs": [
    {
     "name": "stdout",
     "output_type": "stream",
     "text": [
      "The mean is 4.34\n",
      "The standard deviation is 2.17\n"
     ]
    },
    {
     "data": {
      "image/png": "[encoded data removed]",
      "text/plain": [
       "<Figure size 432x288 with 1 Axes>"
      ]
     },
     "metadata": {
      "needs_background": "light"
     },
     "output_type": "display_data"
    },
    {
     "name": "stdout",
     "output_type": "stream",
     "text": [
      "There are 2559 unique words in the dataset\n",
      "There are 1793 reviews in the dataset\n"
     ]
    }
   ],
   "source": [
    "import statistics as stats\n",
    "\n",
    "lengths =[]\n",
    "for review in data:\n",
    "    num_words = review.split()\n",
    "    lengths.append(len(num_words))\n",
    "\n",
    "mean = stats.mean(lengths)\n",
    "deviation = stats.stdev(lengths)\n",
    "print(f\"The mean is {round(mean, 2)}\")\n",
    "print(f\"The standard deviation is {round(deviation, 2)}\")\n",
    "plt.boxplot(x=lengths)\n",
    "plt.show()\n",
    "\n",
    "# - Calculate the number of unique words in the dataset\n",
    "all_words = ' '.join(data)\n",
    "words = all_words.split()\n",
    "unique = len(set(words))\n",
    "print(f\"There are {unique} unique words in the dataset\")\n",
    "\n",
    "# - Perform any other dataset investigation that you feel would be valuable\n",
    "print(f\"There are {len(data)} reviews in the dataset\")\n",
    "\n",
    "# https://gawron.sdsu.edu/python_for_ss/course_core/book_draft/visualization/boxplot.html"
   ]
  },
  {
   "cell_type": "code",
   "execution_count": 197,
   "metadata": {
    "colab": {
     "base_uri": "https://localhost:8080/",
     "height": 50
    },
    "colab_type": "code",
    "id": "_XXnArgcII4i",
    "outputId": "020b2ee2-4c2a-4bc0-bb55-e2ae3841fe57",
    "tags": []
   },
   "outputs": [
    {
     "name": "stdout",
     "output_type": "stream",
     "text": [
      "['one of the best crichton novels', 'the medicine of the future', 'beautiful', 'for lovers of robicheaux', 'a good book']\n",
      "[[18, 4, 2, 19], [2, 4, 2], [], [6, 4], [1, 12, 3]]\n"
     ]
    }
   ],
   "source": [
    "# Do not modify - Tokenize the vocabulary \n",
    "from keras.preprocessing.text import Tokenizer\n",
    "\n",
    "tokenizer = Tokenizer(num_words=25)\n",
    "\n",
    "tokenizer.fit_on_texts(data) #create the vocabularry\n",
    "\n",
    "tokenized_data = tokenizer.texts_to_sequences(data) #tokenize the data using the vocabulary\n",
    "\n",
    "vocab_size = len(tokenizer.word_index) + 1 \n",
    "\n",
    "# Compare a sample of the data before and after tokenization\n",
    "print(data[0:5])\n",
    "print(tokenized_data[0:5])"
   ]
  },
  {
   "cell_type": "markdown",
   "metadata": {
    "colab_type": "text",
    "id": "_vsMmLjdK1Gf"
   },
   "source": [
    "# Pre-processing"
   ]
  },
  {
   "cell_type": "code",
   "execution_count": 198,
   "metadata": {
    "colab": {},
    "colab_type": "code",
    "id": "24DaXd1zII4q",
    "tags": []
   },
   "outputs": [
    {
     "name": "stdout",
     "output_type": "stream",
     "text": [
      "[[18  4  2 19]\n",
      " [ 0  2  4  2]\n",
      " [ 0  0  0  0]\n",
      " [ 0  0  6  4]\n",
      " [ 0  1 12  3]]\n"
     ]
    }
   ],
   "source": [
    "# Pre-processing\n",
    "# Write some code to pre-process the data so that each review is the same length\n",
    "from keras.preprocessing.sequence import pad_sequences\n",
    "import tensorflow as tf\n",
    "padded_data = pad_sequences(tokenized_data, maxlen= 4)\n",
    "\n",
    "print(padded_data[0:5])"
   ]
  },
  {
   "cell_type": "code",
   "execution_count": 199,
   "metadata": {
    "colab": {},
    "colab_type": "code",
    "id": "AFTJcFy6II4s",
    "tags": []
   },
   "outputs": [
    {
     "name": "stdout",
     "output_type": "stream",
     "text": [
      "[[ 0 23  2  4]\n",
      " [ 0  0  4 11]\n",
      " [ 0  2  8  6]\n",
      " ...\n",
      " [ 0  0 21  9]\n",
      " [ 0  0  0  0]\n",
      " [ 0  0  0  0]]\n",
      "[[0. 1.]\n",
      " [0. 1.]\n",
      " [0. 1.]\n",
      " ...\n",
      " [1. 0.]\n",
      " [0. 1.]\n",
      " [0. 1.]]\n"
     ]
    }
   ],
   "source": [
    "# Write some code to split the data into a training and test set. Make sure you shuffle the data. Use 20% for the test set.\n",
    "from sklearn.model_selection import train_test_split\n",
    "\n",
    "X_train, X_test, y_train, y_test = train_test_split(padded_data, labels, test_size=0.2, random_state=42)\n",
    "\n",
    "print(X_train)\n",
    "print(y_train)\n",
    "\n",
    "# https://www.askpython.com/python/examples/split-data-training-and-testing-set?msclkid=54f3c98ea77111ecbe1e36ed1731553d"
   ]
  },
  {
   "cell_type": "code",
   "execution_count": 213,
   "metadata": {},
   "outputs": [
    {
     "name": "stdout",
     "output_type": "stream",
     "text": [
      "x_train shape: (1434, 4)\n",
      "x_test shape: (359, 4)\n",
      "y_train shape: (1434, 2)\n",
      "y_test shape: (359, 2)\n"
     ]
    }
   ],
   "source": [
    "print(\"x_train shape: {}\".format(X_train.shape))\n",
    "print(\"x_test shape: {}\".format(X_test.shape))\n",
    "print(\"y_train shape: {}\".format(y_train.shape))\n",
    "print(\"y_test shape: {}\".format(y_test.shape))"
   ]
  },
  {
   "cell_type": "code",
   "execution_count": 229,
   "metadata": {
    "colab": {
     "base_uri": "https://localhost:8080/",
     "height": 128
    },
    "colab_type": "code",
    "id": "lDth1BSzII4u",
    "outputId": "4614049a-7151-4407-9bc8-54604bbe7fdd"
   },
   "outputs": [],
   "source": [
    "from sklearn.metrics import confusion_matrix, precision_score, recall_score, f1_score,classification_report\n",
    "# Fill in the following function so it\n",
    "# - makes a prediction for the test set given the model\n",
    "# - reports the precision, recall and f1 score. Also print the confusion matrix. \n",
    "# You will need to use the helper to_class function to convert y_pred and y_test before supplying them to the sklearn functions.\n",
    "\n",
    "def assess_model(model, X_test, y_test):\n",
    "      #To do\n",
    "    prediction = model.predict(X_test)\n",
    "    prediction = to_class(prediction)\n",
    "    y          = to_class(y_test)    \n",
    "    \n",
    "    # Precision score\n",
    "    precision = precision_score(y , prediction)\n",
    "    print(\"Precision Score: %.2f\" % (precision))\n",
    "    # Recall Score\n",
    "    recall = recall_score(y, prediction)\n",
    "    print(\"Recall Score: %.2f\" % (recall))\n",
    "    f1 = f1_score(y, prediction)\n",
    "    # F1 Score\n",
    "    print(\"F1 Score: %.2f\" % (f1))\n",
    "    # Confusion Matrix\n",
    "    print(\"Confusion matrix:\")\n",
    "    print(confusion_matrix(y, prediction))"
   ]
  },
  {
   "cell_type": "markdown",
   "metadata": {
    "colab_type": "text",
    "id": "nTqLbbE6MpGt"
   },
   "source": [
    "# Build and tune model"
   ]
  },
  {
   "cell_type": "markdown",
   "metadata": {
    "colab_type": "text",
    "id": "3X70rA4uMXNv"
   },
   "source": [
    "Define network architecture"
   ]
  },
  {
   "cell_type": "code",
   "execution_count": 222,
   "metadata": {
    "colab": {},
    "colab_type": "code",
    "id": "wKoXWKG4II5F",
    "scrolled": false
   },
   "outputs": [
    {
     "name": "stdout",
     "output_type": "stream",
     "text": [
      "Model: \"sequential_33\"\n",
      "_________________________________________________________________\n",
      " Layer (type)                Output Shape              Param #   \n",
      "=================================================================\n",
      " embedding_27 (Embedding)    (None, 4, 10)             25590     \n",
      "                                                                 \n",
      " spatial_dropout1d_27 (Spati  (None, 4, 10)            0         \n",
      " alDropout1D)                                                    \n",
      "                                                                 \n",
      " batch_normalization_8 (Batc  (None, 4, 10)            40        \n",
      " hNormalization)                                                 \n",
      "                                                                 \n",
      " lstm_19 (LSTM)              (None, 64)                19200     \n",
      "                                                                 \n",
      " dense_67 (Dense)            (None, 64)                4160      \n",
      "                                                                 \n",
      " dense_68 (Dense)            (None, 64)                4160      \n",
      "                                                                 \n",
      " dense_69 (Dense)            (None, 2)                 130       \n",
      "                                                                 \n",
      " dropout_18 (Dropout)        (None, 2)                 0         \n",
      "                                                                 \n",
      "=================================================================\n",
      "Total params: 53,280\n",
      "Trainable params: 53,260\n",
      "Non-trainable params: 20\n",
      "_________________________________________________________________\n",
      "None\n"
     ]
    }
   ],
   "source": [
    "# Import model dependecies\n",
    "from keras.layers import Embedding, LSTM, Dense, SpatialDropout1D, BatchNormalization,Dropout\n",
    "from keras.models import Sequential\n",
    "\n",
    "model = Sequential()\n",
    "input_dim = unique\n",
    "output_dim = 10\n",
    "input_length = 4\n",
    "\n",
    "model.add(Embedding(input_dim, output_dim, input_length=input_length))\n",
    "model.add(SpatialDropout1D(0.2))\n",
    "\n",
    "model.add(BatchNormalization())\n",
    "\n",
    "# Recurrent layer\n",
    "model.add(LSTM(64, return_sequences=False, \n",
    "               dropout=0.1, recurrent_dropout=0.1))\n",
    "\n",
    "\n",
    "model.add(Dense(64, input_dim=8, activation=\"relu\"))\n",
    "model.add(Dense(64, activation=\"relu\"))\n",
    "model.add(Dense(2, activation=\"sigmoid\"))\n",
    "\n",
    "# Dropout for regularization\n",
    "model.add(Dropout(0.5))\n",
    "\n",
    "model.compile(optimizer='adam', loss='binary_crossentropy', metrics=['accuracy'])\n",
    "\n",
    "print (model.summary())\n",
    "\n",
    "# https://www.analyticsvidhya.com/blog/2021/05/develop-your-first-deep-learning-model-in-python-with-keras/\n",
    "# https://stackoverflow.com/questions/62241417/how-to-improve-lstm-model-predictions-and-accuracy"
   ]
  },
  {
   "cell_type": "markdown",
   "metadata": {
    "colab_type": "text",
    "id": "llS0-VKBMbz-"
   },
   "source": [
    "Train model"
   ]
  },
  {
   "cell_type": "code",
   "execution_count": 223,
   "metadata": {
    "colab": {},
    "colab_type": "code",
    "id": "F5IJs0QuMe_I",
    "scrolled": true
   },
   "outputs": [
    {
     "name": "stdout",
     "output_type": "stream",
     "text": [
      "Epoch 1/5\n",
      "144/144 [==============================] - 4s 10ms/step - loss: 4.2502 - accuracy: 0.5049\n",
      "Epoch 2/5\n",
      "144/144 [==============================] - 1s 9ms/step - loss: 4.3513 - accuracy: 0.4902\n",
      "Epoch 3/5\n",
      "144/144 [==============================] - 1s 9ms/step - loss: 4.1982 - accuracy: 0.5181\n",
      "Epoch 4/5\n",
      "144/144 [==============================] - 1s 10ms/step - loss: 3.9865 - accuracy: 0.5425\n",
      "Epoch 5/5\n",
      "144/144 [==============================] - 1s 10ms/step - loss: 4.1651 - accuracy: 0.5272\n"
     ]
    }
   ],
   "source": [
    "# Specify parameter for model fitting\n",
    "n_epochs = 5\n",
    "batch_size = 10\n",
    "\n",
    "history = model.fit(X_train,y_train, \n",
    "                    batch_size=batch_size, epochs=n_epochs)\n",
    "\n",
    "# ValueError: Classification metrics can't handle a mix of multilabel-indicator and binary targets"
   ]
  },
  {
   "cell_type": "markdown",
   "metadata": {
    "colab_type": "text",
    "id": "rniBBEiyMRKD"
   },
   "source": [
    "Examine performance of model"
   ]
  },
  {
   "cell_type": "code",
   "execution_count": 230,
   "metadata": {
    "colab": {},
    "colab_type": "code",
    "id": "eBVogHg2II5T",
    "tags": []
   },
   "outputs": [
    {
     "name": "stdout",
     "output_type": "stream",
     "text": [
      "Precision Score: 0.61\n",
      "Recall Score: 0.71\n",
      "F1 Score: 0.65\n",
      "Confusion matrix:\n",
      "[[ 92  84]\n",
      " [ 53 130]]\n"
     ]
    }
   ],
   "source": [
    "# assessing the model \n",
    "\n",
    "assess_model(model, X_test, y_test)\n",
    "\n"
   ]
  },
  {
   "cell_type": "markdown",
   "metadata": {
    "colab_type": "text",
    "id": "HB8kzt-IME4U"
   },
   "source": [
    "Plot graphs for accuracy and loss"
   ]
  },
  {
   "cell_type": "code",
   "execution_count": 244,
   "metadata": {
    "colab": {},
    "colab_type": "code",
    "id": "hPyJ78unMJUI"
   },
   "outputs": [
    {
     "data": {
      "image/png": "[encoded data removed]",
      "text/plain": [
       "<Figure size 1080x360 with 2 Axes>"
      ]
     },
     "metadata": {
      "needs_background": "light"
     },
     "output_type": "display_data"
    }
   ],
   "source": [
    "def plot_loss_acc(history, output_dim):\n",
    "    \"\"\"\n",
    "    This function plots the accuracy and loss of a model over the number of epochs\n",
    "    \"\"\"\n",
    "    fig = plt.figure(figsize=(15, 5))\n",
    "    fig.suptitle(f'Loss and Accuracy for output dimension {output_dim}')\n",
    "    \n",
    "    # plot loss\n",
    "    ax = fig.add_subplot(1, 2, 1)\n",
    "    ax.plot(history.history['loss'])\n",
    "    ax.grid(True)\n",
    "    ax.set(xlabel='iterations', title='Loss')\n",
    "    \n",
    "    #plot accuracy\n",
    "    ax = fig.add_subplot(1, 2, 2)\n",
    "    ax.plot(history.history['accuracy'])\n",
    "    ax.grid(True)\n",
    "    ax.set(xlabel='iterations', title='Accuracy');\n",
    "\n",
    "    plt.show()\n",
    "    \n",
    "plot_loss_acc(history, 10)\n",
    "\n",
    "# https://www.kaggle.com/code/carpiliengpatbaul/usecaseproditec"
   ]
  },
  {
   "cell_type": "code",
   "execution_count": 248,
   "metadata": {},
   "outputs": [
    {
     "name": "stdout",
     "output_type": "stream",
     "text": [
      "Epoch 1/5\n",
      "144/144 [==============================] - 4s 11ms/step - loss: 4.6952 - accuracy: 0.5139\n",
      "Epoch 2/5\n",
      "144/144 [==============================] - 2s 11ms/step - loss: 4.0932 - accuracy: 0.4979\n",
      "Epoch 3/5\n",
      "144/144 [==============================] - 1s 10ms/step - loss: 4.2582 - accuracy: 0.4861\n",
      "Epoch 4/5\n",
      "144/144 [==============================] - 1s 9ms/step - loss: 4.2582 - accuracy: 0.5153\n",
      "Epoch 5/5\n",
      "144/144 [==============================] - 1s 9ms/step - loss: 4.2242 - accuracy: 0.5265\n"
     ]
    }
   ],
   "source": [
    "# model 2\n",
    "\n",
    "model_2 = Sequential()\n",
    "\n",
    "# change output dimension layer \n",
    "output_dim = 25\n",
    "\n",
    "model_2.add(Embedding(input_dim, output_dim, input_length=input_length))\n",
    "model_2.add(SpatialDropout1D(0.2))\n",
    "\n",
    "model_2.add(BatchNormalization())\n",
    "\n",
    "# Recurrent layer\n",
    "model_2.add(LSTM(64, return_sequences=False, \n",
    "               dropout=0.1, recurrent_dropout=0.1))\n",
    "\n",
    "\n",
    "model_2.add(Dense(64, input_dim=8, activation=\"relu\"))\n",
    "model_2.add(Dense(64, activation=\"relu\"))\n",
    "model_2.add(Dense(2, activation=\"sigmoid\"))\n",
    "\n",
    "# Dropout for regularization\n",
    "model_2.add(Dropout(0.5))\n",
    "\n",
    "model_2.compile(optimizer='adam', loss='binary_crossentropy', metrics=['accuracy'])\n",
    "\n",
    "n_epochs = 5\n",
    "batch_size = 10\n",
    "\n",
    "history_2 = model_2.fit(X_train,y_train, \n",
    "                    batch_size=batch_size, epochs=n_epochs)"
   ]
  },
  {
   "cell_type": "code",
   "execution_count": 250,
   "metadata": {},
   "outputs": [
    {
     "data": {
      "image/png": "[encoded data removed]",
      "text/plain": [
       "<Figure size 1080x360 with 2 Axes>"
      ]
     },
     "metadata": {
      "needs_background": "light"
     },
     "output_type": "display_data"
    }
   ],
   "source": [
    "plot_loss_acc(history_2 , 25)"
   ]
  },
  {
   "cell_type": "code",
   "execution_count": 251,
   "metadata": {},
   "outputs": [
    {
     "name": "stdout",
     "output_type": "stream",
     "text": [
      "Epoch 1/5\n",
      "144/144 [==============================] - 5s 11ms/step - loss: 4.2294 - accuracy: 0.5244\n",
      "Epoch 2/5\n",
      "144/144 [==============================] - 1s 10ms/step - loss: 4.1951 - accuracy: 0.5049\n",
      "Epoch 3/5\n",
      "144/144 [==============================] - 1s 10ms/step - loss: 4.1490 - accuracy: 0.5321\n",
      "Epoch 4/5\n",
      "144/144 [==============================] - 1s 10ms/step - loss: 4.1602 - accuracy: 0.5293\n",
      "Epoch 5/5\n",
      "144/144 [==============================] - 1s 10ms/step - loss: 4.3239 - accuracy: 0.5119\n"
     ]
    }
   ],
   "source": [
    "# model 3\n",
    "\n",
    "model_3 = Sequential()\n",
    "\n",
    "output_dim = 50\n",
    "\n",
    "\n",
    "model_3.add(Embedding(input_dim, output_dim, input_length=input_length))\n",
    "model_3.add(SpatialDropout1D(0.2))\n",
    "\n",
    "model_3.add(BatchNormalization())\n",
    "\n",
    "# Recurrent layer\n",
    "model_3.add(LSTM(64, return_sequences=False, \n",
    "               dropout=0.1, recurrent_dropout=0.1))\n",
    "\n",
    "\n",
    "model_3.add(Dense(64, input_dim=8, activation=\"relu\"))\n",
    "model_3.add(Dense(64, activation=\"relu\"))\n",
    "model_3.add(Dense(2, activation=\"sigmoid\"))\n",
    "\n",
    "# Dropout for regularization\n",
    "model_3.add(Dropout(0.5))\n",
    "\n",
    "model_3.compile(optimizer='adam', loss='binary_crossentropy', metrics=['accuracy'])\n",
    "\n",
    "n_epochs = 5\n",
    "batch_size = 10\n",
    "\n",
    "history_3 = model_3.fit(X_train,y_train, \n",
    "                    batch_size=batch_size, epochs=n_epochs)"
   ]
  },
  {
   "cell_type": "code",
   "execution_count": 252,
   "metadata": {},
   "outputs": [
    {
     "data": {
      "image/png": "[encoded data removed]",
      "text/plain": [
       "<Figure size 1080x360 with 2 Axes>"
      ]
     },
     "metadata": {
      "needs_background": "light"
     },
     "output_type": "display_data"
    }
   ],
   "source": [
    "plot_loss_acc(history_3, 25)"
   ]
  },
  {
   "cell_type": "code",
   "execution_count": 253,
   "metadata": {},
   "outputs": [
    {
     "name": "stdout",
     "output_type": "stream",
     "text": [
      "Epoch 1/5\n",
      "144/144 [==============================] - 5s 10ms/step - loss: 4.5339 - accuracy: 0.5126\n",
      "Epoch 2/5\n",
      "144/144 [==============================] - 1s 10ms/step - loss: 4.2600 - accuracy: 0.4937\n",
      "Epoch 3/5\n",
      "144/144 [==============================] - 1s 10ms/step - loss: 4.3899 - accuracy: 0.5014\n",
      "Epoch 4/5\n",
      "144/144 [==============================] - 1s 9ms/step - loss: 4.3440 - accuracy: 0.4902\n",
      "Epoch 5/5\n",
      "144/144 [==============================] - 1s 9ms/step - loss: 4.0971 - accuracy: 0.5300\n"
     ]
    }
   ],
   "source": [
    "# model 4\n",
    "model_4 = Sequential()\n",
    "\n",
    "output_dim = 10\n",
    "\n",
    "\n",
    "model_4.add(Embedding(input_dim, output_dim, input_length=input_length))\n",
    "model_4.add(SpatialDropout1D(0.2))\n",
    "\n",
    "model_4.add(BatchNormalization())\n",
    "\n",
    "# Recurrent layer\n",
    "model_4.add(LSTM(64, return_sequences=False, \n",
    "               dropout=0.1, recurrent_dropout=0.1))\n",
    "\n",
    "\n",
    "model_4.add(Dense(64, input_dim=8, activation=\"relu\"))\n",
    "model_4.add(Dense(64, activation=\"relu\"))\n",
    "model_4.add(Dense(2, activation=\"sigmoid\"))\n",
    "\n",
    "# Dropout for regularization\n",
    "model_4.add(Dropout(0.5))\n",
    "\n",
    "model_4.compile(optimizer='adam', loss='binary_crossentropy', metrics=['accuracy'])\n",
    "\n",
    "n_epochs = 5\n",
    "batch_size = 10\n",
    "\n",
    "history_4 = model_4.fit(X_train,y_train, \n",
    "                    batch_size=batch_size, epochs=n_epochs)"
   ]
  },
  {
   "cell_type": "code",
   "execution_count": 254,
   "metadata": {},
   "outputs": [
    {
     "data": {
      "image/png": "[encoded data removed]",
      "text/plain": [
       "<Figure size 1080x360 with 2 Axes>"
      ]
     },
     "metadata": {
      "needs_background": "light"
     },
     "output_type": "display_data"
    }
   ],
   "source": [
    "plot_loss_acc(history_4, 10)"
   ]
  },
  {
   "cell_type": "markdown",
   "metadata": {
    "colab_type": "text",
    "id": "eAZ1LyFBMLoK"
   },
   "source": [
    "# Make a prediction"
   ]
  },
  {
   "cell_type": "code",
   "execution_count": 258,
   "metadata": {
    "colab": {},
    "colab_type": "code",
    "id": "vfPM5LokII5V",
    "tags": []
   },
   "outputs": [],
   "source": [
    "# This is a very small set of completed new data to use to make predictions.\n",
    "prediction_data = [\"this book is fabulous\",\"i hated this book\", \"the best\", \"no good\", \"okay\"]\n",
    "tokenized = tokenizer.texts_to_sequences(prediction_data)\n",
    "padded = pad_sequences(tokenized, padding='post', maxlen=4)\n",
    "\n",
    "# Supply this data to each of your models and see how it does. \n",
    "# You can call the helper function \"to_word_label\" to map the output of the model to the name of the\n",
    "# class it was predicted to belong to.\n",
    "\n",
    "\n",
    "\n",
    "\n"
   ]
  },
  {
   "cell_type": "code",
   "execution_count": 259,
   "metadata": {},
   "outputs": [
    {
     "data": {
      "text/plain": [
       "['positive', 'positive', 'positive', 'positive', 'positive']"
      ]
     },
     "execution_count": 259,
     "metadata": {},
     "output_type": "execute_result"
    }
   ],
   "source": [
    "# Predict using model 1 output_dim = 10\n",
    "pred = model.predict(padded)\n",
    "to_word_label(pred)"
   ]
  },
  {
   "cell_type": "code",
   "execution_count": 260,
   "metadata": {},
   "outputs": [
    {
     "data": {
      "text/plain": [
       "['negative', 'negative', 'positive', 'negative', 'negative']"
      ]
     },
     "execution_count": 260,
     "metadata": {},
     "output_type": "execute_result"
    }
   ],
   "source": [
    "# Predict using model 2 output_dim = 25\n",
    "pred = model_2.predict(padded)\n",
    "to_word_label(pred)"
   ]
  },
  {
   "cell_type": "code",
   "execution_count": 261,
   "metadata": {},
   "outputs": [
    {
     "data": {
      "text/plain": [
       "['negative', 'negative', 'positive', 'negative', 'negative']"
      ]
     },
     "execution_count": 261,
     "metadata": {},
     "output_type": "execute_result"
    }
   ],
   "source": [
    "# Predict using model 3 output_dim = 50\n",
    "pred = model_3.predict(padded)\n",
    "to_word_label(pred)"
   ]
  },
  {
   "cell_type": "code",
   "execution_count": 262,
   "metadata": {},
   "outputs": [
    {
     "name": "stdout",
     "output_type": "stream",
     "text": [
      "WARNING:tensorflow:5 out of the last 52 calls to <function Model.make_predict_function.<locals>.predict_function at 0x000002104C3BDC60> triggered tf.function retracing. Tracing is expensive and the excessive number of tracings could be due to (1) creating @tf.function repeatedly in a loop, (2) passing tensors with different shapes, (3) passing Python objects instead of tensors. For (1), please define your @tf.function outside of the loop. For (2), @tf.function has experimental_relax_shapes=True option that relaxes argument shapes that can avoid unnecessary retracing. For (3), please refer to https://www.tensorflow.org/guide/function#controlling_retracing and https://www.tensorflow.org/api_docs/python/tf/function for  more details.\n"
     ]
    },
    {
     "data": {
      "text/plain": [
       "['negative', 'negative', 'positive', 'negative', 'negative']"
      ]
     },
     "execution_count": 262,
     "metadata": {},
     "output_type": "execute_result"
    }
   ],
   "source": [
    "# Predict using model 4 output_dim = 100\n",
    "pred = model_4.predict(padded)\n",
    "to_word_label(pred)"
   ]
  },
  {
   "cell_type": "code",
   "execution_count": 263,
   "metadata": {},
   "outputs": [
    {
     "name": "stdout",
     "output_type": "stream",
     "text": [
      "Some prediction like the one for model 1 are showing positive prediction while others show negative. This could be a result of some erros in the model\n"
     ]
    }
   ],
   "source": [
    "print (\"Some prediction like the one for model 1 are showing positive prediction while others show negative. This could be a result of some erros in the model\")"
   ]
  },
  {
   "cell_type": "code",
   "execution_count": null,
   "metadata": {},
   "outputs": [],
   "source": [
    "# https://github.com/MattFindlay/BookReviews_RNN/blob/11f48c35efbfe30b0912b94f6b5ea3a01f23104f/L3T20.ipynb"
   ]
  }
 ],
 "metadata": {
  "colab": {
   "collapsed_sections": [],
   "name": "L3T20.ipynb",
   "provenance": []
  },
  "kernelspec": {
   "display_name": "Python 3 (ipykernel)",
   "language": "python",
   "name": "python3"
  },
  "language_info": {
   "codemirror_mode": {
    "name": "ipython",
    "version": 3
   },
   "file_extension": ".py",
   "mimetype": "text/x-python",
   "name": "python",
   "nbconvert_exporter": "python",
   "pygments_lexer": "ipython3",
   "version": "3.10.0"
  }
 },
 "nbformat": 4,
 "nbformat_minor": 1
}
